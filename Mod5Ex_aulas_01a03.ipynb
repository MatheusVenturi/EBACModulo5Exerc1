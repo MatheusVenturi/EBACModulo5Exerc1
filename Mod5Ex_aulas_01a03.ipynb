{
 "cells": [
  {
   "cell_type": "markdown",
   "metadata": {},
   "source": [
    "# Módulo 5 Tarefa 1\n",
    "## Base de nascidos vivos do DataSUS\n",
    "O DataSUS disponibiliza diversos arquivos de dados com relação a seus segurados, conforme a [lei da transparência de informações públicas](https://www.sisgov.com/transparencia-acesso-informacao/#:~:text=A%20Lei%20da%20Transpar%C3%AAncia%20(LC,em%20um%20site%20na%20internet.). \n",
    "\n",
    "Essas informações podem ser obtidas pela internet [aqui](http://www2.datasus.gov.br/DATASUS/index.php?area=0901&item=1). Como o processo de obtenção desses arquivos foge um pouco do nosso escopo, deixamos o arquivo ```SINASC_RO_2019.csv``` já como vai ser encontrado no DataSUS. O dicionário de dados está no arquivo ```estrutura_sinasc_para_CD.pdf``` (o nome do arquivo tal qual no portal do DataSUS).\n",
    "\n",
    "### Nosso objetivo\n",
    "Queremos deixar uma base organizada para podermos estudar a relação entre partos com risco para o bebê e algumas condições como tempo de parto, consultas de pré-natal etc.\n",
    "\n",
    "#### Preparação da base\n",
    "1. Carregue a base 'SINASC_RO_2019.csv'. Conte o número de registros e o número de registros não duplicados da base. Dica: você aprendeu um método que remove duplicados, encadeie este método com um outro método que conta o número de linhas. **Há linhas duplicadas?**  \n",
    "\n",
    "2. Conte o número de valores *missing* por variável.  \n",
    "\n",
    "3. Ok, no item anterior você deve ter achado pouco prático ler a informação de tantas variáveis, muitas delas nem devem ser interesantes. Então crie uma seleção dessa base somente com as colunas que interessam. São elas:\n",
    "``` \n",
    "['LOCNASC', 'IDADEMAE', 'ESTCIVMAE', 'ESCMAE', 'QTDFILVIVO', \n",
    "    'GESTACAO', 'GRAVIDEZ', 'CONSULTAS', 'APGAR5'] \n",
    "```\n",
    "Refaça a contagem de valores *missings*.  \n",
    "\n",
    "4. Apgar é uma *nota* que o pediatra dá ao bebê quando nasce de acordo com algumas características associadas principalmente à respiração. Apgar 1 e Apgar 5 são as notas 1 e 5 minutos do nascimento. Apgar5 será a nossa variável de interesse principal. Então remova todos os registros com Apgar5 não preenchido. Para esta seleção, conte novamente o número de linhas e o número de *missings*.  \n",
    "\n",
    "5. observe que as variáveis ```['ESTCIVMAE', 'CONSULTAS']``` possuem o código ```9```, que significa *ignorado*. Vamos assumir que o não preenchido é o mesmo que o código ```9```.<br>\n",
    "6. Substitua os valores faltantes da quantitativa (```QTDFILVIVO```) por zero.  \n",
    "7. Das restantes, decida que valore te parece mais adequado (um 'não preenchido' ou um valor 'mais provável' como no item anterior) e preencha. Justifique. Lembre-se de que tratamento de dados é trabalho do cientista, e que estamos tomando decisões a todo o momento - não há necessariamente certo e errado aqui.  \n",
    "8. O Apgar possui uma classificação indicando se o bebê passou por asfixia:\n",
    "- Entre 8 e 10 está em uma faixa 'normal'. \n",
    "- Entre 6 e 7, significa que o recém-nascido passou por 'asfixia leve'. \n",
    "- Entre 4 e 5 significa 'asfixia moderada'.\n",
    "- Entre 0 e 3 significa 'asfixia severa'.  \n",
    "\n",
    "Crie uma categorização dessa variável com essa codificação e calcule as frequências dessa categorização.  \n",
    "<br>\n",
    "9. Renomeie as variáveis para que fiquem no *snake case*, ou seja, em letras minúsculas, com um *underscore* entre as palávras. Dica: repare que se você não quiser criar um *dataframe* novo, você vai precisar usar a opção ```inplace = True```."
   ]
  },
  {
   "cell_type": "code",
   "execution_count": 78,
   "metadata": {},
   "outputs": [
    {
     "name": "stdout",
     "output_type": "stream",
     "text": [
      "(27028, 69)\n",
      "(27028, 69)\n",
      "Quantidade de linhas duplicadas: 0\n"
     ]
    }
   ],
   "source": [
    "import pandas as pd\n",
    "import requests\n",
    "\n",
    "# 1) seu código aqui\n",
    "sinasc = pd.read_csv('SINASC_RO_2019.csv')\n",
    "print(sinasc.shape)\n",
    "print(sinasc.drop_duplicates().shape)\n",
    "print('Quantidade de linhas duplicadas:',sinasc.shape[0] - sinasc.drop_duplicates().shape[0])"
   ]
  },
  {
   "cell_type": "code",
   "execution_count": 79,
   "metadata": {},
   "outputs": [
    {
     "data": {
      "text/plain": [
       "ORIGEM          0\n",
       "CODESTAB      115\n",
       "CODMUNNASC      0\n",
       "LOCNASC         0\n",
       "IDADEMAE        0\n",
       "             ... \n",
       "munResUf        0\n",
       "munResLat       1\n",
       "munResLon       1\n",
       "munResAlt       1\n",
       "munResArea      1\n",
       "Length: 69, dtype: int64"
      ]
     },
     "execution_count": 79,
     "metadata": {},
     "output_type": "execute_result"
    }
   ],
   "source": [
    "# 2) seu código aqui\n",
    "sinasc.isna().sum()"
   ]
  },
  {
   "cell_type": "code",
   "execution_count": 80,
   "metadata": {},
   "outputs": [
    {
     "data": {
      "text/plain": [
       "LOCNASC          0\n",
       "IDADEMAE         0\n",
       "ESTCIVMAE      317\n",
       "ESCMAE         312\n",
       "QTDFILVIVO    1573\n",
       "GESTACAO      1232\n",
       "GRAVIDEZ        79\n",
       "CONSULTAS        0\n",
       "APGAR5         103\n",
       "dtype: int64"
      ]
     },
     "execution_count": 80,
     "metadata": {},
     "output_type": "execute_result"
    }
   ],
   "source": [
    "# 3) seu código aqui\n",
    "sinasc_interesse = sinasc[['LOCNASC', 'IDADEMAE', 'ESTCIVMAE', 'ESCMAE', 'QTDFILVIVO', 'GESTACAO', 'GRAVIDEZ', 'CONSULTAS', 'APGAR5']]\n",
    "sinasc_interesse.isna().sum()"
   ]
  },
  {
   "cell_type": "code",
   "execution_count": 81,
   "metadata": {},
   "outputs": [
    {
     "data": {
      "text/html": [
       "<div>\n",
       "<style scoped>\n",
       "    .dataframe tbody tr th:only-of-type {\n",
       "        vertical-align: middle;\n",
       "    }\n",
       "\n",
       "    .dataframe tbody tr th {\n",
       "        vertical-align: top;\n",
       "    }\n",
       "\n",
       "    .dataframe thead th {\n",
       "        text-align: right;\n",
       "    }\n",
       "</style>\n",
       "<table border=\"1\" class=\"dataframe\">\n",
       "  <thead>\n",
       "    <tr style=\"text-align: right;\">\n",
       "      <th></th>\n",
       "      <th>LOCNASC</th>\n",
       "      <th>IDADEMAE</th>\n",
       "      <th>ESTCIVMAE</th>\n",
       "      <th>ESCMAE</th>\n",
       "      <th>QTDFILVIVO</th>\n",
       "      <th>GESTACAO</th>\n",
       "      <th>GRAVIDEZ</th>\n",
       "      <th>CONSULTAS</th>\n",
       "      <th>APGAR5</th>\n",
       "    </tr>\n",
       "  </thead>\n",
       "  <tbody>\n",
       "    <tr>\n",
       "      <th>38</th>\n",
       "      <td>1</td>\n",
       "      <td>25</td>\n",
       "      <td>1.0</td>\n",
       "      <td>NaN</td>\n",
       "      <td>3.0</td>\n",
       "      <td>37 a 41 semanas</td>\n",
       "      <td>Única</td>\n",
       "      <td>4</td>\n",
       "      <td>8.0</td>\n",
       "    </tr>\n",
       "    <tr>\n",
       "      <th>62</th>\n",
       "      <td>1</td>\n",
       "      <td>20</td>\n",
       "      <td>NaN</td>\n",
       "      <td>NaN</td>\n",
       "      <td>1.0</td>\n",
       "      <td>37 a 41 semanas</td>\n",
       "      <td>Única</td>\n",
       "      <td>4</td>\n",
       "      <td>9.0</td>\n",
       "    </tr>\n",
       "    <tr>\n",
       "      <th>66</th>\n",
       "      <td>1</td>\n",
       "      <td>23</td>\n",
       "      <td>5.0</td>\n",
       "      <td>NaN</td>\n",
       "      <td>1.0</td>\n",
       "      <td>37 a 41 semanas</td>\n",
       "      <td>Única</td>\n",
       "      <td>4</td>\n",
       "      <td>10.0</td>\n",
       "    </tr>\n",
       "    <tr>\n",
       "      <th>93</th>\n",
       "      <td>1</td>\n",
       "      <td>22</td>\n",
       "      <td>5.0</td>\n",
       "      <td>NaN</td>\n",
       "      <td>2.0</td>\n",
       "      <td>37 a 41 semanas</td>\n",
       "      <td>Única</td>\n",
       "      <td>3</td>\n",
       "      <td>9.0</td>\n",
       "    </tr>\n",
       "    <tr>\n",
       "      <th>229</th>\n",
       "      <td>1</td>\n",
       "      <td>25</td>\n",
       "      <td>1.0</td>\n",
       "      <td>NaN</td>\n",
       "      <td>1.0</td>\n",
       "      <td>37 a 41 semanas</td>\n",
       "      <td>Única</td>\n",
       "      <td>4</td>\n",
       "      <td>10.0</td>\n",
       "    </tr>\n",
       "    <tr>\n",
       "      <th>...</th>\n",
       "      <td>...</td>\n",
       "      <td>...</td>\n",
       "      <td>...</td>\n",
       "      <td>...</td>\n",
       "      <td>...</td>\n",
       "      <td>...</td>\n",
       "      <td>...</td>\n",
       "      <td>...</td>\n",
       "      <td>...</td>\n",
       "    </tr>\n",
       "    <tr>\n",
       "      <th>26605</th>\n",
       "      <td>1</td>\n",
       "      <td>18</td>\n",
       "      <td>5.0</td>\n",
       "      <td>NaN</td>\n",
       "      <td>1.0</td>\n",
       "      <td>37 a 41 semanas</td>\n",
       "      <td>Única</td>\n",
       "      <td>4</td>\n",
       "      <td>10.0</td>\n",
       "    </tr>\n",
       "    <tr>\n",
       "      <th>26765</th>\n",
       "      <td>1</td>\n",
       "      <td>30</td>\n",
       "      <td>2.0</td>\n",
       "      <td>NaN</td>\n",
       "      <td>2.0</td>\n",
       "      <td>37 a 41 semanas</td>\n",
       "      <td>Única</td>\n",
       "      <td>4</td>\n",
       "      <td>8.0</td>\n",
       "    </tr>\n",
       "    <tr>\n",
       "      <th>26902</th>\n",
       "      <td>1</td>\n",
       "      <td>22</td>\n",
       "      <td>5.0</td>\n",
       "      <td>NaN</td>\n",
       "      <td>1.0</td>\n",
       "      <td>37 a 41 semanas</td>\n",
       "      <td>Única</td>\n",
       "      <td>3</td>\n",
       "      <td>10.0</td>\n",
       "    </tr>\n",
       "    <tr>\n",
       "      <th>26928</th>\n",
       "      <td>1</td>\n",
       "      <td>36</td>\n",
       "      <td>1.0</td>\n",
       "      <td>NaN</td>\n",
       "      <td>3.0</td>\n",
       "      <td>32 a 36 semanas</td>\n",
       "      <td>Dupla</td>\n",
       "      <td>3</td>\n",
       "      <td>9.0</td>\n",
       "    </tr>\n",
       "    <tr>\n",
       "      <th>26973</th>\n",
       "      <td>1</td>\n",
       "      <td>36</td>\n",
       "      <td>9.0</td>\n",
       "      <td>NaN</td>\n",
       "      <td>0.0</td>\n",
       "      <td>37 a 41 semanas</td>\n",
       "      <td>Única</td>\n",
       "      <td>3</td>\n",
       "      <td>10.0</td>\n",
       "    </tr>\n",
       "  </tbody>\n",
       "</table>\n",
       "<p>310 rows × 9 columns</p>\n",
       "</div>"
      ],
      "text/plain": [
       "       LOCNASC  IDADEMAE  ESTCIVMAE ESCMAE  QTDFILVIVO         GESTACAO  \\\n",
       "38           1        25        1.0    NaN         3.0  37 a 41 semanas   \n",
       "62           1        20        NaN    NaN         1.0  37 a 41 semanas   \n",
       "66           1        23        5.0    NaN         1.0  37 a 41 semanas   \n",
       "93           1        22        5.0    NaN         2.0  37 a 41 semanas   \n",
       "229          1        25        1.0    NaN         1.0  37 a 41 semanas   \n",
       "...        ...       ...        ...    ...         ...              ...   \n",
       "26605        1        18        5.0    NaN         1.0  37 a 41 semanas   \n",
       "26765        1        30        2.0    NaN         2.0  37 a 41 semanas   \n",
       "26902        1        22        5.0    NaN         1.0  37 a 41 semanas   \n",
       "26928        1        36        1.0    NaN         3.0  32 a 36 semanas   \n",
       "26973        1        36        9.0    NaN         0.0  37 a 41 semanas   \n",
       "\n",
       "      GRAVIDEZ  CONSULTAS  APGAR5  \n",
       "38       Única          4     8.0  \n",
       "62       Única          4     9.0  \n",
       "66       Única          4    10.0  \n",
       "93       Única          3     9.0  \n",
       "229      Única          4    10.0  \n",
       "...        ...        ...     ...  \n",
       "26605    Única          4    10.0  \n",
       "26765    Única          4     8.0  \n",
       "26902    Única          3    10.0  \n",
       "26928    Dupla          3     9.0  \n",
       "26973    Única          3    10.0  \n",
       "\n",
       "[310 rows x 9 columns]"
      ]
     },
     "execution_count": 81,
     "metadata": {},
     "output_type": "execute_result"
    }
   ],
   "source": [
    "# 4) seu código aqui\n",
    "sinasc_interesse_filtro = sinasc_interesse.drop(sinasc_interesse[sinasc_interesse['APGAR5'].isna()].index)\n",
    "sinasc_interesse_filtro[sinasc_interesse_filtro['ESCMAE'].isna()]"
   ]
  },
  {
   "cell_type": "code",
   "execution_count": 82,
   "metadata": {},
   "outputs": [],
   "source": [
    "# 5) seu código aqui\n",
    "sinasc_interesse_filtro['ESTCIVMAE'].fillna(9, inplace=True)\n",
    "sinasc_interesse_filtro['CONSULTAS'].fillna(9, inplace=True)"
   ]
  },
  {
   "cell_type": "code",
   "execution_count": 83,
   "metadata": {},
   "outputs": [],
   "source": [
    "# 6) Seu código aqui\n",
    "sinasc_interesse_filtro['QTDFILVIVO'].fillna(0, inplace=True)"
   ]
  },
  {
   "cell_type": "code",
   "execution_count": 84,
   "metadata": {},
   "outputs": [
    {
     "data": {
      "text/plain": [
       "{'8 a 11 anos': 0.5786815227483751,\n",
       " '12 anos ou mais': 0.21381615598885795,\n",
       " '1 a 3 anos': 0.01894150417827298,\n",
       " '4 a 7 anos': 0.17556174558960075,\n",
       " nan: 0.0,\n",
       " 'Nenhuma': 0.0014856081708449396}"
      ]
     },
     "execution_count": 84,
     "metadata": {},
     "output_type": "execute_result"
    }
   ],
   "source": [
    "# 7.1.1) seu código aqui\n",
    "#Verificando a frequência que cada valor aparece\n",
    "coluna = 'ESCMAE'\n",
    "lista_coluna = list(sinasc_interesse_filtro[coluna].unique())\n",
    "qtde_coluna = list(map(lambda x: sinasc_interesse_filtro[sinasc_interesse_filtro[coluna]==x].shape[0], lista_coluna))\n",
    "dict_coluna = dict(zip(lista_coluna, qtde_coluna))\n",
    "\n",
    "lista_coluna_freq = list(map(lambda x: x / 26925, dict_coluna.values()))\n",
    "dict_coluna_freq = dict(zip(dict_coluna.keys(), lista_coluna_freq))\n",
    "dict_coluna_freq"
   ]
  },
  {
   "cell_type": "code",
   "execution_count": 85,
   "metadata": {},
   "outputs": [
    {
     "data": {
      "text/plain": [
       "{'8 a 11 anos': 0.5840297121634169,\n",
       " '12 anos ou mais': 0.21756731662024142,\n",
       " '1 a 3 anos': 0.019090064995357474,\n",
       " '4 a 7 anos': 0.17782729805013928,\n",
       " 'Nenhuma': 0.0014856081708449396}"
      ]
     },
     "execution_count": 85,
     "metadata": {},
     "output_type": "execute_result"
    }
   ],
   "source": [
    "# 7.1.2) seu código aqui\n",
    "#Verificando o impacto na frequência com preenchimento ffill (forward)\n",
    "coluna = 'ESCMAE'\n",
    "\n",
    "sinasc_interesse_filtro_ffill = sinasc_interesse_filtro.copy(deep=True)\n",
    "sinasc_interesse_filtro_ffill[coluna].fillna(method='ffill', inplace=True)\n",
    "\n",
    "lista_coluna_ffill = list(sinasc_interesse_filtro_ffill[coluna].unique())\n",
    "qtde_coluna_ffill = list(map(lambda x: sinasc_interesse_filtro_ffill[sinasc_interesse_filtro_ffill[coluna]==x].shape[0], lista_coluna_ffill))\n",
    "dict_coluna_ffill = dict(zip(lista_coluna_ffill, qtde_coluna_ffill))\n",
    "\n",
    "lista_coluna_freq_ffill = list(map(lambda x: x / 26925, dict_coluna_ffill.values()))\n",
    "dict_coluna_ffill_freq = dict(zip(dict_coluna_ffill.keys(), lista_coluna_freq_ffill))\n",
    "dict_coluna_ffill_freq"
   ]
  },
  {
   "cell_type": "markdown",
   "metadata": {},
   "source": [
    "Adotado para a variável ESCMAE o preenchimento ffill (forward) por manter a frequência relativa muito próxima."
   ]
  },
  {
   "cell_type": "code",
   "execution_count": 86,
   "metadata": {},
   "outputs": [
    {
     "data": {
      "text/plain": [
       "{'37 a 41 semanas': 0.8365088207985144,\n",
       " '42 semanas e mais': 0.025923862581244198,\n",
       " '32 a 36 semanas': 0.08297121634168989,\n",
       " '22 a 27 semanas': 0.003156917363045497,\n",
       " '28 a 31 semanas': 0.0060167130919220055,\n",
       " nan: 0.0,\n",
       " 'Menos de 22 semanas': 0.00025998142989786443}"
      ]
     },
     "execution_count": 86,
     "metadata": {},
     "output_type": "execute_result"
    }
   ],
   "source": [
    "# 7.2.1) seu código aqui\n",
    "#Verificando a frequência que cada valor aparece\n",
    "coluna = 'GESTACAO'\n",
    "lista_coluna = list(sinasc_interesse_filtro[coluna].unique())\n",
    "qtde_coluna = list(map(lambda x: sinasc_interesse_filtro[sinasc_interesse_filtro[coluna]==x].shape[0], lista_coluna))\n",
    "dict_coluna = dict(zip(lista_coluna, qtde_coluna))\n",
    "\n",
    "lista_coluna_freq = list(map(lambda x: x / 26925, dict_coluna.values()))\n",
    "dict_coluna_freq = dict(zip(dict_coluna.keys(), lista_coluna_freq))\n",
    "dict_coluna_freq"
   ]
  },
  {
   "cell_type": "code",
   "execution_count": 87,
   "metadata": {},
   "outputs": [
    {
     "data": {
      "text/plain": [
       "{'37 a 41 semanas': 0.8753946146703807,\n",
       " '42 semanas e mais': 0.02688950789229341,\n",
       " '32 a 36 semanas': 0.08761374187558031,\n",
       " '22 a 27 semanas': 0.0033054781801299905,\n",
       " '28 a 31 semanas': 0.006462395543175487,\n",
       " 'Menos de 22 semanas': 0.0003342618384401114}"
      ]
     },
     "execution_count": 87,
     "metadata": {},
     "output_type": "execute_result"
    }
   ],
   "source": [
    "# 7.2.2) seu código aqui\n",
    "#Verificando o impacto na frequência com preenchimento ffill (forward)\n",
    "coluna = 'GESTACAO'\n",
    "\n",
    "sinasc_interesse_filtro_ffill = sinasc_interesse_filtro.copy(deep=True)\n",
    "sinasc_interesse_filtro_ffill[coluna].fillna(method='ffill', inplace=True)\n",
    "\n",
    "lista_coluna_ffill = list(sinasc_interesse_filtro_ffill[coluna].unique())\n",
    "qtde_coluna_ffill = list(map(lambda x: sinasc_interesse_filtro_ffill[sinasc_interesse_filtro_ffill[coluna]==x].shape[0], lista_coluna_ffill))\n",
    "dict_coluna_ffill = dict(zip(lista_coluna_ffill, qtde_coluna_ffill))\n",
    "\n",
    "lista_coluna_freq_ffill = list(map(lambda x: x / 26925, dict_coluna_ffill.values()))\n",
    "dict_coluna_ffill_freq = dict(zip(dict_coluna_ffill.keys(), lista_coluna_freq_ffill))\n",
    "dict_coluna_ffill_freq"
   ]
  },
  {
   "cell_type": "markdown",
   "metadata": {},
   "source": [
    "Adotado para a variável GESTACAO o preenchimento ffill (forward) por distribuir a frequência relativa dentro de uma proporcionalidade aceitável."
   ]
  },
  {
   "cell_type": "code",
   "execution_count": 88,
   "metadata": {},
   "outputs": [
    {
     "data": {
      "text/plain": [
       "{'Única': 0.9788672237697308,\n",
       " 'Dupla': 0.018124419684308262,\n",
       " nan: 0.0,\n",
       " 'Tríplice e mais': 0.00018570102135561745}"
      ]
     },
     "execution_count": 88,
     "metadata": {},
     "output_type": "execute_result"
    }
   ],
   "source": [
    "# 7.3.1) seu código aqui\n",
    "#Verificando a frequência que cada valor aparece\n",
    "coluna = 'GRAVIDEZ'\n",
    "lista_coluna = list(sinasc_interesse_filtro[coluna].unique())\n",
    "qtde_coluna = list(map(lambda x: sinasc_interesse_filtro[sinasc_interesse_filtro[coluna]==x].shape[0], lista_coluna))\n",
    "dict_coluna = dict(zip(lista_coluna, qtde_coluna))\n",
    "\n",
    "lista_coluna_freq = list(map(lambda x: x / 26925, dict_coluna.values()))\n",
    "dict_coluna_freq = dict(zip(dict_coluna.keys(), lista_coluna_freq))\n",
    "dict_coluna_freq"
   ]
  },
  {
   "cell_type": "code",
   "execution_count": 89,
   "metadata": {},
   "outputs": [
    {
     "data": {
      "text/plain": [
       "{'Única': 0.981652739090065,\n",
       " 'Dupla': 0.018161559888579388,\n",
       " 'Tríplice e mais': 0.00018570102135561745}"
      ]
     },
     "execution_count": 89,
     "metadata": {},
     "output_type": "execute_result"
    }
   ],
   "source": [
    "# 7.3.2) seu código aqui\n",
    "#Verificando o impacto na frequência com preenchimento ffill (forward)\n",
    "coluna = 'GRAVIDEZ'\n",
    "\n",
    "sinasc_interesse_filtro_ffill = sinasc_interesse_filtro.copy(deep=True)\n",
    "sinasc_interesse_filtro_ffill[coluna].fillna(method='ffill', inplace=True)\n",
    "\n",
    "lista_coluna_ffill = list(sinasc_interesse_filtro_ffill[coluna].unique())\n",
    "qtde_coluna_ffill = list(map(lambda x: sinasc_interesse_filtro_ffill[sinasc_interesse_filtro_ffill[coluna]==x].shape[0], lista_coluna_ffill))\n",
    "dict_coluna_ffill = dict(zip(lista_coluna_ffill, qtde_coluna_ffill))\n",
    "\n",
    "lista_coluna_freq_ffill = list(map(lambda x: x / 26925, dict_coluna_ffill.values()))\n",
    "dict_coluna_ffill_freq = dict(zip(dict_coluna_ffill.keys(), lista_coluna_freq_ffill))\n",
    "dict_coluna_ffill_freq"
   ]
  },
  {
   "cell_type": "markdown",
   "metadata": {},
   "source": [
    "Também adotado para a variável GRAVIDEZ o preenchimento ffill (forward) por manter a frequência relativa sem variações significativas."
   ]
  },
  {
   "cell_type": "code",
   "execution_count": 110,
   "metadata": {},
   "outputs": [
    {
     "name": "stdout",
     "output_type": "stream",
     "text": [
      "A frequência relativa (%) é:\n",
      " asfixia leve         1.188487\n",
      "asfixia moderada     0.252553\n",
      "asfixia severa       0.274838\n",
      "normal              98.284123\n",
      "dtype: float64\n"
     ]
    }
   ],
   "source": [
    "# 8) seu código aqui\n",
    "sinasc_interesse_filtro.loc[sinasc_interesse_filtro['APGAR5'] >= 8, 'apgar5_categ'] = 'normal'\n",
    "sinasc_interesse_filtro.loc[(sinasc_interesse_filtro['APGAR5'] >= 6) & (sinasc_interesse_filtro['APGAR5'] <= 7), 'apgar5_categ'] = 'asfixia leve'\n",
    "sinasc_interesse_filtro.loc[(sinasc_interesse_filtro['APGAR5'] >= 4) & (sinasc_interesse_filtro['APGAR5'] <= 5), 'apgar5_categ'] = 'asfixia moderada'\n",
    "sinasc_interesse_filtro.loc[sinasc_interesse_filtro['APGAR5'] <= 3, 'apgar5_categ'] = 'asfixia severa'\n",
    "\n",
    "apgar5_categ_dummies = pd.get_dummies(sinasc_interesse_filtro['apgar5_categ'])\n",
    "print('A frequência relativa (%) é:\\n', apgar5_categ_dummies.sum()/apgar5_categ_dummies.shape[0]*100)"
   ]
  },
  {
   "cell_type": "code",
   "execution_count": 114,
   "metadata": {},
   "outputs": [
    {
     "data": {
      "text/html": [
       "<div>\n",
       "<style scoped>\n",
       "    .dataframe tbody tr th:only-of-type {\n",
       "        vertical-align: middle;\n",
       "    }\n",
       "\n",
       "    .dataframe tbody tr th {\n",
       "        vertical-align: top;\n",
       "    }\n",
       "\n",
       "    .dataframe thead th {\n",
       "        text-align: right;\n",
       "    }\n",
       "</style>\n",
       "<table border=\"1\" class=\"dataframe\">\n",
       "  <thead>\n",
       "    <tr style=\"text-align: right;\">\n",
       "      <th></th>\n",
       "      <th>local_nasc</th>\n",
       "      <th>idade_mae</th>\n",
       "      <th>estado_civil_mae</th>\n",
       "      <th>escolaridade_mae</th>\n",
       "      <th>qtde_filho_vivo</th>\n",
       "      <th>gestacao</th>\n",
       "      <th>gravidez</th>\n",
       "      <th>consultas</th>\n",
       "      <th>apgar5</th>\n",
       "      <th>apgar5_categ</th>\n",
       "    </tr>\n",
       "  </thead>\n",
       "  <tbody>\n",
       "    <tr>\n",
       "      <th>0</th>\n",
       "      <td>1</td>\n",
       "      <td>19</td>\n",
       "      <td>5.0</td>\n",
       "      <td>8 a 11 anos</td>\n",
       "      <td>0.0</td>\n",
       "      <td>37 a 41 semanas</td>\n",
       "      <td>Única</td>\n",
       "      <td>4</td>\n",
       "      <td>10.0</td>\n",
       "      <td>normal</td>\n",
       "    </tr>\n",
       "    <tr>\n",
       "      <th>1</th>\n",
       "      <td>1</td>\n",
       "      <td>29</td>\n",
       "      <td>2.0</td>\n",
       "      <td>8 a 11 anos</td>\n",
       "      <td>1.0</td>\n",
       "      <td>37 a 41 semanas</td>\n",
       "      <td>Única</td>\n",
       "      <td>4</td>\n",
       "      <td>9.0</td>\n",
       "      <td>normal</td>\n",
       "    </tr>\n",
       "    <tr>\n",
       "      <th>2</th>\n",
       "      <td>1</td>\n",
       "      <td>37</td>\n",
       "      <td>9.0</td>\n",
       "      <td>8 a 11 anos</td>\n",
       "      <td>2.0</td>\n",
       "      <td>37 a 41 semanas</td>\n",
       "      <td>Única</td>\n",
       "      <td>4</td>\n",
       "      <td>10.0</td>\n",
       "      <td>normal</td>\n",
       "    </tr>\n",
       "    <tr>\n",
       "      <th>3</th>\n",
       "      <td>1</td>\n",
       "      <td>30</td>\n",
       "      <td>5.0</td>\n",
       "      <td>12 anos ou mais</td>\n",
       "      <td>0.0</td>\n",
       "      <td>37 a 41 semanas</td>\n",
       "      <td>Única</td>\n",
       "      <td>3</td>\n",
       "      <td>10.0</td>\n",
       "      <td>normal</td>\n",
       "    </tr>\n",
       "    <tr>\n",
       "      <th>4</th>\n",
       "      <td>1</td>\n",
       "      <td>30</td>\n",
       "      <td>2.0</td>\n",
       "      <td>8 a 11 anos</td>\n",
       "      <td>1.0</td>\n",
       "      <td>37 a 41 semanas</td>\n",
       "      <td>Única</td>\n",
       "      <td>4</td>\n",
       "      <td>10.0</td>\n",
       "      <td>normal</td>\n",
       "    </tr>\n",
       "    <tr>\n",
       "      <th>...</th>\n",
       "      <td>...</td>\n",
       "      <td>...</td>\n",
       "      <td>...</td>\n",
       "      <td>...</td>\n",
       "      <td>...</td>\n",
       "      <td>...</td>\n",
       "      <td>...</td>\n",
       "      <td>...</td>\n",
       "      <td>...</td>\n",
       "      <td>...</td>\n",
       "    </tr>\n",
       "    <tr>\n",
       "      <th>27023</th>\n",
       "      <td>1</td>\n",
       "      <td>32</td>\n",
       "      <td>2.0</td>\n",
       "      <td>12 anos ou mais</td>\n",
       "      <td>1.0</td>\n",
       "      <td>32 a 36 semanas</td>\n",
       "      <td>Única</td>\n",
       "      <td>4</td>\n",
       "      <td>9.0</td>\n",
       "      <td>normal</td>\n",
       "    </tr>\n",
       "    <tr>\n",
       "      <th>27024</th>\n",
       "      <td>1</td>\n",
       "      <td>19</td>\n",
       "      <td>1.0</td>\n",
       "      <td>8 a 11 anos</td>\n",
       "      <td>0.0</td>\n",
       "      <td>37 a 41 semanas</td>\n",
       "      <td>Única</td>\n",
       "      <td>4</td>\n",
       "      <td>9.0</td>\n",
       "      <td>normal</td>\n",
       "    </tr>\n",
       "    <tr>\n",
       "      <th>27025</th>\n",
       "      <td>1</td>\n",
       "      <td>24</td>\n",
       "      <td>2.0</td>\n",
       "      <td>8 a 11 anos</td>\n",
       "      <td>0.0</td>\n",
       "      <td>37 a 41 semanas</td>\n",
       "      <td>Única</td>\n",
       "      <td>4</td>\n",
       "      <td>10.0</td>\n",
       "      <td>normal</td>\n",
       "    </tr>\n",
       "    <tr>\n",
       "      <th>27026</th>\n",
       "      <td>1</td>\n",
       "      <td>21</td>\n",
       "      <td>2.0</td>\n",
       "      <td>8 a 11 anos</td>\n",
       "      <td>1.0</td>\n",
       "      <td>32 a 36 semanas</td>\n",
       "      <td>Única</td>\n",
       "      <td>4</td>\n",
       "      <td>9.0</td>\n",
       "      <td>normal</td>\n",
       "    </tr>\n",
       "    <tr>\n",
       "      <th>27027</th>\n",
       "      <td>1</td>\n",
       "      <td>18</td>\n",
       "      <td>5.0</td>\n",
       "      <td>8 a 11 anos</td>\n",
       "      <td>1.0</td>\n",
       "      <td>37 a 41 semanas</td>\n",
       "      <td>Única</td>\n",
       "      <td>4</td>\n",
       "      <td>8.0</td>\n",
       "      <td>normal</td>\n",
       "    </tr>\n",
       "  </tbody>\n",
       "</table>\n",
       "<p>26925 rows × 10 columns</p>\n",
       "</div>"
      ],
      "text/plain": [
       "       local_nasc  idade_mae  estado_civil_mae escolaridade_mae  \\\n",
       "0               1         19               5.0      8 a 11 anos   \n",
       "1               1         29               2.0      8 a 11 anos   \n",
       "2               1         37               9.0      8 a 11 anos   \n",
       "3               1         30               5.0  12 anos ou mais   \n",
       "4               1         30               2.0      8 a 11 anos   \n",
       "...           ...        ...               ...              ...   \n",
       "27023           1         32               2.0  12 anos ou mais   \n",
       "27024           1         19               1.0      8 a 11 anos   \n",
       "27025           1         24               2.0      8 a 11 anos   \n",
       "27026           1         21               2.0      8 a 11 anos   \n",
       "27027           1         18               5.0      8 a 11 anos   \n",
       "\n",
       "       qtde_filho_vivo         gestacao gravidez  consultas  apgar5  \\\n",
       "0                  0.0  37 a 41 semanas    Única          4    10.0   \n",
       "1                  1.0  37 a 41 semanas    Única          4     9.0   \n",
       "2                  2.0  37 a 41 semanas    Única          4    10.0   \n",
       "3                  0.0  37 a 41 semanas    Única          3    10.0   \n",
       "4                  1.0  37 a 41 semanas    Única          4    10.0   \n",
       "...                ...              ...      ...        ...     ...   \n",
       "27023              1.0  32 a 36 semanas    Única          4     9.0   \n",
       "27024              0.0  37 a 41 semanas    Única          4     9.0   \n",
       "27025              0.0  37 a 41 semanas    Única          4    10.0   \n",
       "27026              1.0  32 a 36 semanas    Única          4     9.0   \n",
       "27027              1.0  37 a 41 semanas    Única          4     8.0   \n",
       "\n",
       "      apgar5_categ  \n",
       "0           normal  \n",
       "1           normal  \n",
       "2           normal  \n",
       "3           normal  \n",
       "4           normal  \n",
       "...            ...  \n",
       "27023       normal  \n",
       "27024       normal  \n",
       "27025       normal  \n",
       "27026       normal  \n",
       "27027       normal  \n",
       "\n",
       "[26925 rows x 10 columns]"
      ]
     },
     "execution_count": 114,
     "metadata": {},
     "output_type": "execute_result"
    }
   ],
   "source": [
    "# 9) seu código aqui\n",
    "sinasc_interesse_filtro.rename(columns={'LOCNASC':'local_nasc', 'IDADEMAE':'idade_mae', 'ESTCIVMAE':'estado_civil_mae', 'ESCMAE':'escolaridade_mae', 'QTDFILVIVO':'qtde_filho_vivo', 'GESTACAO':'gestacao', 'GRAVIDEZ':'gravidez', 'CONSULTAS':'consultas', 'APGAR5':'apgar5'}, inplace=True)\n",
    "sinasc_interesse_filtro"
   ]
  },
  {
   "cell_type": "code",
   "execution_count": null,
   "metadata": {},
   "outputs": [],
   "source": [
    "# 9) seu código aqui\n"
   ]
  }
 ],
 "metadata": {
  "kernelspec": {
   "display_name": "Python 3 (ipykernel)",
   "language": "python",
   "name": "python3"
  },
  "language_info": {
   "codemirror_mode": {
    "name": "ipython",
    "version": 3
   },
   "file_extension": ".py",
   "mimetype": "text/x-python",
   "name": "python",
   "nbconvert_exporter": "python",
   "pygments_lexer": "ipython3",
   "version": "3.9.7"
  }
 },
 "nbformat": 4,
 "nbformat_minor": 4
}
